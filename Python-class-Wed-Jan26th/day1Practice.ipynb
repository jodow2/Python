{
 "cells": [
  {
   "cell_type": "code",
   "execution_count": 1,
   "metadata": {},
   "outputs": [
    {
     "name": "stdout",
     "output_type": "stream",
     "text": [
      "Josh likes blue\n"
     ]
    }
   ],
   "source": [
    "# Practicing the input function\n",
    "\n",
    "name = input(\"What is your name? \")\n",
    "favColor = input(\"What is your favorite color? \")\n",
    "print (name + \" likes \" + favColor)"
   ]
  },
  {
   "cell_type": "code",
   "execution_count": 7,
   "metadata": {},
   "outputs": [
    {
     "name": "stdout",
     "output_type": "stream",
     "text": [
      "Your age is: 4\n"
     ]
    }
   ],
   "source": [
    "# Type Conversion\n",
    "# Whenever you use the input function, you'll get a string, \n",
    "# so you must convert the string into the data type you want\n",
    "birth_year = input(\"Birth year? \")\n",
    "age = 2019 - int(birth_year)\n",
    "print(\"Your age is:\", age)"
   ]
  },
  {
   "cell_type": "code",
   "execution_count": 12,
   "metadata": {},
   "outputs": [
    {
     "name": "stdout",
     "output_type": "stream",
     "text": [
      "68.4 kg\n"
     ]
    }
   ],
   "source": [
    "#Ask a user their weight (in pounds), \n",
    "# convert it to kilograms and print on the terminal\n",
    "\n",
    "weight_lbs = input (\"What is your weight in pounds? \")\n",
    "weight_kg = int(weight_lbs) * 0.45\n",
    "print(weight_kg,\"kg\")\n"
   ]
  },
  {
   "cell_type": "code",
   "execution_count": 17,
   "metadata": {},
   "outputs": [
    {
     "name": "stdout",
     "output_type": "stream",
     "text": [
      "Python's 'course' for beginners\n",
      "\n",
      "Hello John,\n",
      "This is to just let you \n",
      "that this is a test!\n"
     ]
    }
   ],
   "source": [
    "#String Manipulation\n",
    "#We'll create a random variable called course and use for our example\n",
    "\n",
    "course = \"Python's 'course' for beginners\"\n",
    "print(course)\n",
    "\n",
    "course = '''\n",
    "Hello John,\n",
    "This is to just let you \n",
    "that this is a test!'''\n",
    "print(course)"
   ]
  },
  {
   "cell_type": "code",
   "execution_count": 45,
   "metadata": {},
   "outputs": [
    {
     "name": "stdout",
     "output_type": "stream",
     "text": [
      "B\n",
      "s\n",
      "ginners\n",
      "n for Beginners\n",
      "on for \n",
      "Pytho\n",
      "Python for Beginners\n",
      "Python for Beginners\n",
      "Python f\n",
      "ennife\n"
     ]
    }
   ],
   "source": [
    "# More on strings\n",
    "\n",
    "course = \"Python for Beginners\"\n",
    "print(course[11])\n",
    "print(course[-1])\n",
    "print(course[-7:])\n",
    "print(course[5:])\n",
    "print(course[4:11])\n",
    "print(course[:5])\n",
    "\n",
    "print(course[:])\n",
    "another = course[:]\n",
    "print(another)\n",
    "\n",
    "another = course[:8]\n",
    "print(another)\n",
    "\n",
    "name = \"Jennifer\"\n",
    "print(name[1:-1])"
   ]
  },
  {
   "cell_type": "code",
   "execution_count": null,
   "metadata": {},
   "outputs": [],
   "source": [
    "# Formatted Strings\n",
    "\n",
    "first = \"John\"\n",
    "last = \"Smith\"\n",
    "message = first"
   ]
  }
 ],
 "metadata": {
  "interpreter": {
   "hash": "037497930f631197eacce5a518f2a3356e148b4d4a4b64c0c592a46faf12b90d"
  },
  "kernelspec": {
   "display_name": "Python 3.10.2 64-bit",
   "language": "python",
   "name": "python3"
  },
  "language_info": {
   "codemirror_mode": {
    "name": "ipython",
    "version": 3
   },
   "file_extension": ".py",
   "mimetype": "text/x-python",
   "name": "python",
   "nbconvert_exporter": "python",
   "pygments_lexer": "ipython3",
   "version": "3.10.2"
  },
  "orig_nbformat": 4
 },
 "nbformat": 4,
 "nbformat_minor": 2
}
