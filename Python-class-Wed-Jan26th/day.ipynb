{
 "cells": [
  {
   "cell_type": "markdown",
   "metadata": {},
   "source": [
    "#This one runs on the Jupiter engine\n",
    "when creating a variable:\n",
    "you want your variable name to be descriptive"
   ]
  },
  {
   "cell_type": "markdown",
   "metadata": {},
   "source": [
    "#This one runs on the Jupiter engine\n",
    "when creating a variable:\n",
    "you want your variable name to be descriptive"
   ]
  },
  {
   "cell_type": "code",
   "execution_count": 5,
   "metadata": {},
   "outputs": [
    {
     "name": "stdout",
     "output_type": "stream",
     "text": [
      "terry\n"
     ]
    }
   ],
   "source": [
    "name = \"terry\"\n",
    "print (name)"
   ]
  },
  {
   "cell_type": "code",
   "execution_count": 6,
   "metadata": {},
   "outputs": [
    {
     "name": "stdout",
     "output_type": "stream",
     "text": [
      "5.0\n"
     ]
    }
   ],
   "source": [
    "x = 2 # an integer\n",
    "y = 2.5 # a float\n",
    "z = x*y\n",
    "\n",
    "c = \"Silver Spring\" # c is for the city\n",
    "city = \"Silver Spring\"\n",
    "last_name = \"jones\"\n",
    "\n",
    "\n",
    "print (z)"
   ]
  },
  {
   "cell_type": "code",
   "execution_count": 1,
   "metadata": {},
   "outputs": [
    {
     "name": "stdout",
     "output_type": "stream",
     "text": [
      "30\n"
     ]
    }
   ],
   "source": [
    "x = 10\n",
    "y = 20\n",
    "z = x + y #This is an expression\n",
    "print (z)"
   ]
  },
  {
   "cell_type": "code",
   "execution_count": 6,
   "metadata": {},
   "outputs": [
    {
     "name": "stdout",
     "output_type": "stream",
     "text": [
      "Steve1\n"
     ]
    }
   ],
   "source": [
    "name = \"Steve1\"\n",
    "Name = \"Steve2\"\n",
    "\n",
    "print(name)"
   ]
  },
  {
   "cell_type": "code",
   "execution_count": 13,
   "metadata": {},
   "outputs": [
    {
     "name": "stdout",
     "output_type": "stream",
     "text": [
      "250\n"
     ]
    }
   ],
   "source": [
    "rate = 10\n",
    "hours = 25\n",
    "\n",
    "pay = rate * hours\n",
    "\n",
    "# print($) \n",
    "print (pay)"
   ]
  },
  {
   "cell_type": "code",
   "execution_count": 14,
   "metadata": {},
   "outputs": [
    {
     "name": "stdout",
     "output_type": "stream",
     "text": [
      "joshuadowuona\n"
     ]
    }
   ],
   "source": [
    "f_name = \"joshua\"\n",
    "l_name = \"dowuona\"\n",
    "print(f_name + l_name)"
   ]
  },
  {
   "cell_type": "code",
   "execution_count": 15,
   "metadata": {},
   "outputs": [
    {
     "name": "stdout",
     "output_type": "stream",
     "text": [
      "joshua dowuona\n"
     ]
    }
   ],
   "source": [
    "f_name = \"joshua\"\n",
    "l_name = \"dowuona\"\n",
    "print(f_name + \" \" + l_name)"
   ]
  },
  {
   "cell_type": "code",
   "execution_count": 16,
   "metadata": {},
   "outputs": [
    {
     "name": "stdout",
     "output_type": "stream",
     "text": [
      "5 dowuona\n",
      "<class 'str'>\n"
     ]
    }
   ],
   "source": [
    "f_name = \"5\"\n",
    "l_name = \"dowuona\"\n",
    "print(str(f_name) + \" \" + l_name)\n",
    "print(type(f_name))"
   ]
  }
 ],
 "metadata": {
  "interpreter": {
   "hash": "037497930f631197eacce5a518f2a3356e148b4d4a4b64c0c592a46faf12b90d"
  },
  "kernelspec": {
   "display_name": "Python 3.10.2 64-bit",
   "language": "python",
   "name": "python3"
  },
  "language_info": {
   "codemirror_mode": {
    "name": "ipython",
    "version": 3
   },
   "file_extension": ".py",
   "mimetype": "text/x-python",
   "name": "python",
   "nbconvert_exporter": "python",
   "pygments_lexer": "ipython3",
   "version": "3.10.2"
  },
  "orig_nbformat": 4
 },
 "nbformat": 4,
 "nbformat_minor": 2
}
