{
 "cells": [
  {
   "cell_type": "code",
   "execution_count": null,
   "metadata": {},
   "outputs": [],
   "source": [
    "# adding two strings\n",
    "\n",
    "number = \"1\" #is a string\n",
    "print(number + \"2\") # We are cancatenating a string with a string that is adding a string to a string"
   ]
  },
  {
   "cell_type": "code",
   "execution_count": null,
   "metadata": {},
   "outputs": [],
   "source": [
    "number = \"1\" # is a string\n",
    "print(number + 2)\n",
    "\n",
    "print (int(number) + 2)"
   ]
  },
  {
   "cell_type": "code",
   "execution_count": null,
   "metadata": {},
   "outputs": [],
   "source": [
    "number = 1 # is an integer\n",
    "print (number + 2) # We are adding an integer with an integer that is adding an integer to an integer"
   ]
  },
  {
   "cell_type": "code",
   "execution_count": null,
   "metadata": {},
   "outputs": [],
   "source": [
    "number = \"1.0\" # is a string\n",
    "#This is a string that can be converted to a float\n",
    "print(float(number) + 2) # we are adding the variable number to 2 and the result is 3.0 the type is temporary converted to float"
   ]
  },
  {
   "cell_type": "code",
   "execution_count": null,
   "metadata": {},
   "outputs": [],
   "source": [
    "amount = 250.0 # is a float\n",
    "print (str(amount) + \" dollars\")\n",
    "print(str(amount) + \"$\")\n",
    "#or\n",
    "print (\"$\" + str(amount))"
   ]
  },
  {
   "cell_type": "code",
   "execution_count": null,
   "metadata": {},
   "outputs": [],
   "source": [
    "#using the input() function to ask the user for input\n",
    "name = input(\"What is your name? \")\n",
    "number = input(\"What is your age? \")"
   ]
  },
  {
   "cell_type": "code",
   "execution_count": null,
   "metadata": {},
   "outputs": [],
   "source": [
    "#Collect name and age\n",
    "# convert age to number\n",
    "\n",
    "name = input(\"What is your name? \")\n",
    "number = input(\"What is your age? \")\n",
    "number = int(number)\n",
    "\n",
    "print(\"Your name is: \", name)\n",
    "print(\"Your age is: \", number)\n",
    "print(\"Your age is: \", type(number))\n",
    "\n"
   ]
  },
  {
   "cell_type": "code",
   "execution_count": null,
   "metadata": {},
   "outputs": [],
   "source": [
    "#We are asking the user for input and storing it in the variale age\n",
    "age = int(input(\"What is your age? \"))\n",
    "print(age)\n",
    "print(type(age))\n"
   ]
  },
  {
   "cell_type": "markdown",
   "metadata": {},
   "source": [
    "Conditional Statements"
   ]
  },
  {
   "cell_type": "code",
   "execution_count": null,
   "metadata": {},
   "outputs": [],
   "source": [
    "x = 6\n",
    "if (x == 5):\n",
    "    print(\"x is 6\")\n",
    "    print(\"The conditions is true\")"
   ]
  },
  {
   "cell_type": "code",
   "execution_count": null,
   "metadata": {},
   "outputs": [],
   "source": [
    "if x < 6:\n",
    "    print(\"x is less than 6\")\n",
    "    print(\"the condition is true\")"
   ]
  },
  {
   "cell_type": "code",
   "execution_count": null,
   "metadata": {},
   "outputs": [],
   "source": [
    "if x >= 6:\n",
    "     print(\"x is greater than or equal to 6\")\n",
    "     print(\"the condition is true\")"
   ]
  },
  {
   "cell_type": "code",
   "execution_count": null,
   "metadata": {},
   "outputs": [],
   "source": [
    "#You can think of elif as \"Else-If\"\n",
    "#The elif keyword is pythons way of saying:\n",
    "#  \"if the previous conditions were not true, then try this condition\"\n",
    "\n",
    "getNumber = int(input(\"Enter a number: \"))\n",
    "\n",
    "print (\"let me guess the number\")\n",
    "\n",
    "if getNumber < 0:\n",
    "    print(\"The number is negative\")\n",
    "elif getNumber >= 0:\n",
    "    print(\"the number is positive\")"
   ]
  },
  {
   "cell_type": "markdown",
   "metadata": {},
   "source": [
    "Exercise:\n",
    "*Ask the user for the number of hours they worked this week.\n",
    "*Ask the user for their hourly rate.\n",
    "*Calculate their weekly pay.\n",
    "*if the user worked more than 40hours, calculate their overtime pay.\n",
    "*overtime pay is 1.5 times the hourly rate for the hours worked above 40.\n",
    "*print out their name and pay\n",
    "\n",
    "*Remember:\n",
    "    input() returns a string. you must convert hours and rate to the appropriate data type."
   ]
  },
  {
   "cell_type": "code",
   "execution_count": null,
   "metadata": {},
   "outputs": [],
   "source": [
    "hours_worked = float(input(\"Enter number of hours worked: \"))\n",
    "rate = float(input(\"Enter Hourly Rate: \"))\n",
    "\n",
    "if hours_worked <= 40:\n",
    "    weekly_pay = hours_worked * rate\n",
    "    print(\"Your weekly pay is: $\", weekly_pay)\n",
    "\n",
    "elif hours_worked > 40:\n",
    "    overtime = (hours_worked - 40) * (rate *1.5)\n",
    "    weekly_pay = (40 * rate) + overtime\n",
    "    print(\"Your weekly pay with overtime is: $\", weekly_pay)\n",
    "    print(\"Your weekly pay with overtime is: $\" + str(weekly_pay))"
   ]
  }
 ],
 "metadata": {
  "interpreter": {
   "hash": "037497930f631197eacce5a518f2a3356e148b4d4a4b64c0c592a46faf12b90d"
  },
  "kernelspec": {
   "display_name": "Python 3.10.2 64-bit",
   "language": "python",
   "name": "python3"
  },
  "language_info": {
   "codemirror_mode": {
    "name": "ipython",
    "version": 3
   },
   "file_extension": ".py",
   "mimetype": "text/x-python",
   "name": "python",
   "nbconvert_exporter": "python",
   "pygments_lexer": "ipython3",
   "version": "3.10.2"
  },
  "orig_nbformat": 4
 },
 "nbformat": 4,
 "nbformat_minor": 2
}
